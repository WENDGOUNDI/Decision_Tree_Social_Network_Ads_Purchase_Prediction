{
 "cells": [
  {
   "cell_type": "markdown",
   "id": "4c4d1512",
   "metadata": {},
   "source": [
    "dataset link= https://www.kaggle.com/datasets/rakeshrau/social-network-ads"
   ]
  },
  {
   "cell_type": "code",
   "execution_count": null,
   "id": "93bc2b72",
   "metadata": {},
   "outputs": [],
   "source": []
  },
  {
   "cell_type": "code",
   "execution_count": 72,
   "id": "61a0dfaa",
   "metadata": {},
   "outputs": [],
   "source": [
    "import numpy as np\n",
    "import pandas as pd\n",
    "import seaborn as sns\n",
    "import matplotlib.pyplot as plt\n",
    "from sklearn.metrics import accuracy_score, f1_score, classification_report, confusion_matrix, fbeta_score, ConfusionMatrixDisplay\n",
    "from sklearn.preprocessing import LabelEncoder\n",
    "from sklearn.model_selection import train_test_split\n",
    "from sklearn.linear_model import LogisticRegression\n",
    "from sklearn.tree import DecisionTreeClassifier\n",
    "import joblib"
   ]
  },
  {
   "cell_type": "code",
   "execution_count": 2,
   "id": "e272591e",
   "metadata": {},
   "outputs": [
    {
     "data": {
      "text/html": [
       "<div>\n",
       "<style scoped>\n",
       "    .dataframe tbody tr th:only-of-type {\n",
       "        vertical-align: middle;\n",
       "    }\n",
       "\n",
       "    .dataframe tbody tr th {\n",
       "        vertical-align: top;\n",
       "    }\n",
       "\n",
       "    .dataframe thead th {\n",
       "        text-align: right;\n",
       "    }\n",
       "</style>\n",
       "<table border=\"1\" class=\"dataframe\">\n",
       "  <thead>\n",
       "    <tr style=\"text-align: right;\">\n",
       "      <th></th>\n",
       "      <th>User ID</th>\n",
       "      <th>Gender</th>\n",
       "      <th>Age</th>\n",
       "      <th>EstimatedSalary</th>\n",
       "      <th>Purchased</th>\n",
       "    </tr>\n",
       "  </thead>\n",
       "  <tbody>\n",
       "    <tr>\n",
       "      <th>0</th>\n",
       "      <td>15624510</td>\n",
       "      <td>Male</td>\n",
       "      <td>19</td>\n",
       "      <td>19000</td>\n",
       "      <td>0</td>\n",
       "    </tr>\n",
       "    <tr>\n",
       "      <th>1</th>\n",
       "      <td>15810944</td>\n",
       "      <td>Male</td>\n",
       "      <td>35</td>\n",
       "      <td>20000</td>\n",
       "      <td>0</td>\n",
       "    </tr>\n",
       "    <tr>\n",
       "      <th>2</th>\n",
       "      <td>15668575</td>\n",
       "      <td>Female</td>\n",
       "      <td>26</td>\n",
       "      <td>43000</td>\n",
       "      <td>0</td>\n",
       "    </tr>\n",
       "    <tr>\n",
       "      <th>3</th>\n",
       "      <td>15603246</td>\n",
       "      <td>Female</td>\n",
       "      <td>27</td>\n",
       "      <td>57000</td>\n",
       "      <td>0</td>\n",
       "    </tr>\n",
       "    <tr>\n",
       "      <th>4</th>\n",
       "      <td>15804002</td>\n",
       "      <td>Male</td>\n",
       "      <td>19</td>\n",
       "      <td>76000</td>\n",
       "      <td>0</td>\n",
       "    </tr>\n",
       "  </tbody>\n",
       "</table>\n",
       "</div>"
      ],
      "text/plain": [
       "    User ID  Gender  Age  EstimatedSalary  Purchased\n",
       "0  15624510    Male   19            19000          0\n",
       "1  15810944    Male   35            20000          0\n",
       "2  15668575  Female   26            43000          0\n",
       "3  15603246  Female   27            57000          0\n",
       "4  15804002    Male   19            76000          0"
      ]
     },
     "execution_count": 2,
     "metadata": {},
     "output_type": "execute_result"
    }
   ],
   "source": [
    "data = pd.read_csv(\"Social_Network_Ads.csv\")\n",
    "data.head()"
   ]
  },
  {
   "cell_type": "code",
   "execution_count": 3,
   "id": "bd4a3a0d",
   "metadata": {},
   "outputs": [
    {
     "data": {
      "text/plain": [
       "(400, 5)"
      ]
     },
     "execution_count": 3,
     "metadata": {},
     "output_type": "execute_result"
    }
   ],
   "source": [
    "data.shape"
   ]
  },
  {
   "cell_type": "code",
   "execution_count": 4,
   "id": "a0e3f34f",
   "metadata": {},
   "outputs": [
    {
     "data": {
      "text/plain": [
       "Index(['User ID', 'Gender', 'Age', 'EstimatedSalary', 'Purchased'], dtype='object')"
      ]
     },
     "execution_count": 4,
     "metadata": {},
     "output_type": "execute_result"
    }
   ],
   "source": [
    "data.columns"
   ]
  },
  {
   "cell_type": "code",
   "execution_count": 6,
   "id": "2a33e6d8",
   "metadata": {},
   "outputs": [
    {
     "name": "stdout",
     "output_type": "stream",
     "text": [
      "<class 'pandas.core.frame.DataFrame'>\n",
      "RangeIndex: 400 entries, 0 to 399\n",
      "Data columns (total 5 columns):\n",
      " #   Column           Non-Null Count  Dtype \n",
      "---  ------           --------------  ----- \n",
      " 0   User ID          400 non-null    int64 \n",
      " 1   Gender           400 non-null    object\n",
      " 2   Age              400 non-null    int64 \n",
      " 3   EstimatedSalary  400 non-null    int64 \n",
      " 4   Purchased        400 non-null    int64 \n",
      "dtypes: int64(4), object(1)\n",
      "memory usage: 15.8+ KB\n"
     ]
    }
   ],
   "source": [
    "data.info()"
   ]
  },
  {
   "cell_type": "code",
   "execution_count": 8,
   "id": "dc239c8e",
   "metadata": {},
   "outputs": [
    {
     "data": {
      "text/plain": [
       "User ID            0\n",
       "Gender             0\n",
       "Age                0\n",
       "EstimatedSalary    0\n",
       "Purchased          0\n",
       "dtype: int64"
      ]
     },
     "execution_count": 8,
     "metadata": {},
     "output_type": "execute_result"
    }
   ],
   "source": [
    "data.isnull().sum()"
   ]
  },
  {
   "cell_type": "code",
   "execution_count": 20,
   "id": "c4459ad7",
   "metadata": {},
   "outputs": [
    {
     "data": {
      "text/plain": [
       "Female    204\n",
       "Male      196\n",
       "Name: Gender, dtype: int64"
      ]
     },
     "execution_count": 20,
     "metadata": {},
     "output_type": "execute_result"
    }
   ],
   "source": [
    "data[\"Gender\"].value_counts()"
   ]
  },
  {
   "cell_type": "code",
   "execution_count": 21,
   "id": "8d9af7ee",
   "metadata": {},
   "outputs": [
    {
     "data": {
      "text/html": [
       "<div>\n",
       "<style scoped>\n",
       "    .dataframe tbody tr th:only-of-type {\n",
       "        vertical-align: middle;\n",
       "    }\n",
       "\n",
       "    .dataframe tbody tr th {\n",
       "        vertical-align: top;\n",
       "    }\n",
       "\n",
       "    .dataframe thead th {\n",
       "        text-align: right;\n",
       "    }\n",
       "</style>\n",
       "<table border=\"1\" class=\"dataframe\">\n",
       "  <thead>\n",
       "    <tr style=\"text-align: right;\">\n",
       "      <th></th>\n",
       "      <th>User ID</th>\n",
       "      <th>Gender</th>\n",
       "      <th>Age</th>\n",
       "      <th>EstimatedSalary</th>\n",
       "      <th>Purchased</th>\n",
       "    </tr>\n",
       "  </thead>\n",
       "  <tbody>\n",
       "    <tr>\n",
       "      <th>0</th>\n",
       "      <td>15624510</td>\n",
       "      <td>1</td>\n",
       "      <td>19</td>\n",
       "      <td>19000</td>\n",
       "      <td>0</td>\n",
       "    </tr>\n",
       "    <tr>\n",
       "      <th>1</th>\n",
       "      <td>15810944</td>\n",
       "      <td>1</td>\n",
       "      <td>35</td>\n",
       "      <td>20000</td>\n",
       "      <td>0</td>\n",
       "    </tr>\n",
       "    <tr>\n",
       "      <th>2</th>\n",
       "      <td>15668575</td>\n",
       "      <td>0</td>\n",
       "      <td>26</td>\n",
       "      <td>43000</td>\n",
       "      <td>0</td>\n",
       "    </tr>\n",
       "    <tr>\n",
       "      <th>3</th>\n",
       "      <td>15603246</td>\n",
       "      <td>0</td>\n",
       "      <td>27</td>\n",
       "      <td>57000</td>\n",
       "      <td>0</td>\n",
       "    </tr>\n",
       "    <tr>\n",
       "      <th>4</th>\n",
       "      <td>15804002</td>\n",
       "      <td>1</td>\n",
       "      <td>19</td>\n",
       "      <td>76000</td>\n",
       "      <td>0</td>\n",
       "    </tr>\n",
       "  </tbody>\n",
       "</table>\n",
       "</div>"
      ],
      "text/plain": [
       "    User ID  Gender  Age  EstimatedSalary  Purchased\n",
       "0  15624510       1   19            19000          0\n",
       "1  15810944       1   35            20000          0\n",
       "2  15668575       0   26            43000          0\n",
       "3  15603246       0   27            57000          0\n",
       "4  15804002       1   19            76000          0"
      ]
     },
     "execution_count": 21,
     "metadata": {},
     "output_type": "execute_result"
    }
   ],
   "source": [
    "# Label Encoding\n",
    "label_encoding = LabelEncoder()\n",
    "data[\"Gender\"] = label_encoding.fit_transform(data[\"Gender\"])\n",
    "data.head()"
   ]
  },
  {
   "cell_type": "code",
   "execution_count": 33,
   "id": "7a083bb7",
   "metadata": {},
   "outputs": [
    {
     "name": "stdout",
     "output_type": "stream",
     "text": [
      "Training Data Shape x_train (320, 3)\n",
      "Training Target Shape x_train (320,)\n",
      "Testing Data Shape x_train (80, 3)\n",
      "Testing Target Shape x_train (80,)\n"
     ]
    }
   ],
   "source": [
    "X = data[['Gender', 'Age', 'EstimatedSalary']]\n",
    "y = data['Purchased']\n",
    "\n",
    "x_train, x_test, y_train, y_test = train_test_split(X, y, test_size=0.2, random_state=42)\n",
    "print(f\"Training Data Shape x_train {x_train.shape}\")\n",
    "print(f\"Training Target Shape x_train {y_train.shape}\")\n",
    "print(f\"Testing Data Shape x_train {x_test.shape}\")\n",
    "print(f\"Testing Target Shape x_train {y_test.shape}\")"
   ]
  },
  {
   "cell_type": "markdown",
   "id": "356a2bbb",
   "metadata": {},
   "source": [
    "## Model Training"
   ]
  },
  {
   "cell_type": "code",
   "execution_count": 52,
   "id": "b3531e0e",
   "metadata": {},
   "outputs": [],
   "source": [
    "dt_classifier = DecisionTreeClassifier(class_weight=\"balanced\", splitter=\"random\", random_state=42)\n",
    "dt_classifier.fit(x_train, y_train)\n",
    "dt_pred = dt_classifier.predict(x_test)"
   ]
  },
  {
   "cell_type": "code",
   "execution_count": 53,
   "id": "cdc7dbf7",
   "metadata": {},
   "outputs": [
    {
     "name": "stdout",
     "output_type": "stream",
     "text": [
      "Model Accuracy: 0.89%\n",
      "Model F1 Score: 0.8363636363636364%\n"
     ]
    }
   ],
   "source": [
    "print(f\"Model Accuracy: {round(accuracy_score(y_test, dt_pred),2)}%\")\n",
    "print(f\"Model F1 Score: {f1_score(y_test, dt_pred)}%\")"
   ]
  },
  {
   "cell_type": "code",
   "execution_count": 55,
   "id": "beee6d4c",
   "metadata": {},
   "outputs": [
    {
     "name": "stdout",
     "output_type": "stream",
     "text": [
      "AxesSubplot(0.125,0.11;0.62x0.77)\n"
     ]
    },
    {
     "data": {
      "image/png": "[encoded data removed]",
      "text/plain": [
       "<Figure size 640x480 with 2 Axes>"
      ]
     },
     "metadata": {},
     "output_type": "display_data"
    }
   ],
   "source": [
    "print(sns.heatmap(confusion_matrix(y_test, dt_pred),annot=True))"
   ]
  },
  {
   "cell_type": "code",
   "execution_count": 59,
   "id": "b7d9ea4c",
   "metadata": {},
   "outputs": [
    {
     "name": "stdout",
     "output_type": "stream",
     "text": [
      "Max Depth: 3\n",
      "F Score: 0.653846153846154\n",
      "Max Depth: 4\n",
      "F Score: 0.8928571428571429\n",
      "Max Depth: 5\n",
      "F Score: 0.7462686567164178\n",
      "Max Depth: 6\n",
      "F Score: 0.851063829787234\n",
      "Max Depth: 7\n",
      "F Score: 0.8098591549295774\n",
      "Max Depth: 8\n",
      "F Score: 0.8156028368794327\n",
      "Max Depth: 9\n",
      "F Score: 0.851063829787234\n",
      "Max Depth: 10\n",
      "F Score: 0.851063829787234\n",
      "Max Depth: 11\n",
      "F Score: 0.8865248226950354\n",
      "Max Depth: 12\n",
      "F Score: 0.7352941176470589\n",
      "Max Depth: 13\n",
      "F Score: 0.827338129496403\n",
      "Max Depth: 14\n",
      "F Score: 0.8214285714285714\n",
      "Max Depth: 15\n",
      "F Score: 0.827338129496403\n",
      "Max Depth: 16\n",
      "F Score: 0.827338129496403\n",
      "Max Depth: 17\n",
      "F Score: 0.827338129496403\n",
      "Max Depth: 18\n",
      "F Score: 0.827338129496403\n",
      "Max Depth: 19\n",
      "F Score: 0.827338129496403\n",
      "Max Depth: 20\n",
      "F Score: 0.827338129496403\n",
      "Max Depth: 21\n",
      "F Score: 0.827338129496403\n",
      "Max Depth: 22\n",
      "F Score: 0.827338129496403\n",
      "Max Depth: 23\n",
      "F Score: 0.827338129496403\n",
      "Max Depth: 24\n",
      "F Score: 0.827338129496403\n",
      "Max Depth: 25\n",
      "F Score: 0.827338129496403\n",
      "Max Depth: 26\n",
      "F Score: 0.827338129496403\n",
      "Max Depth: 27\n",
      "F Score: 0.827338129496403\n",
      "Max Depth: 28\n",
      "F Score: 0.827338129496403\n",
      "Max Depth: 29\n",
      "F Score: 0.827338129496403\n",
      "Max Depth: 30\n",
      "F Score: 0.827338129496403\n",
      "Max Depth: 31\n",
      "F Score: 0.827338129496403\n",
      "Max Depth: 32\n",
      "F Score: 0.827338129496403\n",
      "Max Depth: 33\n",
      "F Score: 0.827338129496403\n",
      "Max Depth: 34\n",
      "F Score: 0.827338129496403\n",
      "Max Depth: 35\n",
      "F Score: 0.827338129496403\n",
      "Max Depth: 36\n",
      "F Score: 0.827338129496403\n",
      "Max Depth: 37\n",
      "F Score: 0.827338129496403\n",
      "Max Depth: 38\n",
      "F Score: 0.827338129496403\n",
      "Max Depth: 39\n",
      "F Score: 0.827338129496403\n",
      "Max Depth: 40\n",
      "F Score: 0.827338129496403\n",
      "Max Depth: 41\n",
      "F Score: 0.827338129496403\n",
      "Max Depth: 42\n",
      "F Score: 0.827338129496403\n",
      "Max Depth: 43\n",
      "F Score: 0.827338129496403\n",
      "Max Depth: 44\n",
      "F Score: 0.827338129496403\n",
      "Max Depth: 45\n",
      "F Score: 0.827338129496403\n",
      "Max Depth: 46\n",
      "F Score: 0.827338129496403\n",
      "Max Depth: 47\n",
      "F Score: 0.827338129496403\n",
      "Max Depth: 48\n",
      "F Score: 0.827338129496403\n",
      "Max Depth: 49\n",
      "F Score: 0.827338129496403\n",
      "Max Depth: 50\n",
      "F Score: 0.827338129496403\n"
     ]
    }
   ],
   "source": [
    "# Fine Tuning \n",
    "\n",
    "results = {}\n",
    "\n",
    "## Fine Tuning\n",
    "for depth in range(3, 51):\n",
    "    model = DecisionTreeClassifier(\n",
    "    class_weight=\"balanced\", splitter=\"random\", max_depth=depth, random_state=42)\n",
    "    model.fit(x_train, y_train)\n",
    "    ypred = model.predict(x_test)\n",
    "    \n",
    "    f2score = fbeta_score(y_test, ypred, beta=2.0)\n",
    "    \n",
    "    print(f\"Max Depth: {depth}\")\n",
    "    print(f\"F Score: {f2score}\")\n",
    "    \n",
    "    results[depth] = f2score"
   ]
  },
  {
   "cell_type": "code",
   "execution_count": 60,
   "id": "dd7c6c20",
   "metadata": {},
   "outputs": [
    {
     "name": "stdout",
     "output_type": "stream",
     "text": [
      "Best Depth: 4\n"
     ]
    }
   ],
   "source": [
    "best_depth = sorted(results, key=lambda x: results[x], reverse=True)[0]\n",
    "print(f\"Best Depth: {best_depth}\")"
   ]
  },
  {
   "cell_type": "code",
   "execution_count": 61,
   "id": "0709e106",
   "metadata": {},
   "outputs": [],
   "source": [
    "dt_tuned_model = DecisionTreeClassifier(class_weight=\"balanced\", splitter='random', max_depth=best_depth, random_state=42)"
   ]
  },
  {
   "cell_type": "code",
   "execution_count": 73,
   "id": "00679352",
   "metadata": {},
   "outputs": [
    {
     "name": "stdout",
     "output_type": "stream",
     "text": [
      "Model Accuracy: 0.92%\n",
      "Model F1 Score: 0.8928571428571429%\n",
      "\n",
      "Classification Report: Train set\n",
      "\n",
      "              precision    recall  f1-score   support\n",
      "\n",
      "           0       0.90      0.92      0.91       205\n",
      "           1       0.85      0.82      0.84       115\n",
      "\n",
      "    accuracy                           0.88       320\n",
      "   macro avg       0.88      0.87      0.87       320\n",
      "weighted avg       0.88      0.88      0.88       320\n",
      "\n",
      "Classification Report: Test set\n",
      "\n",
      "              precision    recall  f1-score   support\n",
      "\n",
      "           0       0.94      0.94      0.94        52\n",
      "           1       0.89      0.89      0.89        28\n",
      "\n",
      "    accuracy                           0.93        80\n",
      "   macro avg       0.92      0.92      0.92        80\n",
      "weighted avg       0.93      0.93      0.93        80\n",
      "\n",
      "Confusion Matrix: Train set\n",
      "\n",
      "<sklearn.metrics._plot.confusion_matrix.ConfusionMatrixDisplay object at 0x0000021BD4C11C88>\n"
     ]
    },
    {
     "data": {
      "image/png": "[encoded data removed]",
      "text/plain": [
       "<Figure size 640x480 with 2 Axes>"
      ]
     },
     "metadata": {},
     "output_type": "display_data"
    },
    {
     "name": "stdout",
     "output_type": "stream",
     "text": [
      "Confusion Matrix: Test set\n",
      "\n",
      "<sklearn.metrics._plot.confusion_matrix.ConfusionMatrixDisplay object at 0x0000021BD7FE3E88>\n"
     ]
    },
    {
     "data": {
      "image/png": "[encoded data removed]",
      "text/plain": [
       "<Figure size 640x480 with 2 Axes>"
      ]
     },
     "metadata": {},
     "output_type": "display_data"
    }
   ],
   "source": [
    "dt_tuned_model.fit(x_train, y_train)\n",
    "y_train_pred = dt_tuned_model.predict(x_train)\n",
    "y_test_pred = dt_tuned_model.predict(x_test)\n",
    "\n",
    "print(f\"Model Accuracy: {round(accuracy_score(y_test, y_test_pred),2)}%\")\n",
    "print(f\"Model F1 Score: {f1_score(y_test, y_test_pred)}%\\n\")\n",
    "\n",
    "print(\"Classification Report: Train set\\n\")\n",
    "print(classification_report(y_train, y_train_pred))\n",
    "\n",
    "print(\"Classification Report: Test set\\n\")\n",
    "print(classification_report(y_test, y_test_pred))\n",
    "\n",
    "print(\"Confusion Matrix: Train set\\n\")\n",
    "print(ConfusionMatrixDisplay.from_predictions(y_train, y_train_pred))\n",
    "plt.grid(False)\n",
    "plt.show()\n",
    "\n",
    "print(\"Confusion Matrix: Test set\\n\")\n",
    "print(ConfusionMatrixDisplay.from_predictions(y_test, y_test_pred))\n",
    "plt.grid(False)\n",
    "plt.show()\n"
   ]
  },
  {
   "cell_type": "markdown",
   "id": "4fb88aac",
   "metadata": {},
   "source": [
    "## Saving the Model"
   ]
  },
  {
   "cell_type": "code",
   "execution_count": 74,
   "id": "7724fb84",
   "metadata": {},
   "outputs": [],
   "source": [
    "# saving the model\n",
    "final_model = joblib.dump(dt_tuned_model,\"dt_tuned_model.joblib\")"
   ]
  },
  {
   "cell_type": "code",
   "execution_count": 76,
   "id": "9539852b",
   "metadata": {},
   "outputs": [
    {
     "data": {
      "text/html": [
       "<div>\n",
       "<style scoped>\n",
       "    .dataframe tbody tr th:only-of-type {\n",
       "        vertical-align: middle;\n",
       "    }\n",
       "\n",
       "    .dataframe tbody tr th {\n",
       "        vertical-align: top;\n",
       "    }\n",
       "\n",
       "    .dataframe thead th {\n",
       "        text-align: right;\n",
       "    }\n",
       "</style>\n",
       "<table border=\"1\" class=\"dataframe\">\n",
       "  <thead>\n",
       "    <tr style=\"text-align: right;\">\n",
       "      <th></th>\n",
       "      <th>Gender</th>\n",
       "      <th>Age</th>\n",
       "      <th>EstimatedSalary</th>\n",
       "    </tr>\n",
       "  </thead>\n",
       "  <tbody>\n",
       "    <tr>\n",
       "      <th>3</th>\n",
       "      <td>0</td>\n",
       "      <td>27</td>\n",
       "      <td>57000</td>\n",
       "    </tr>\n",
       "    <tr>\n",
       "      <th>18</th>\n",
       "      <td>1</td>\n",
       "      <td>46</td>\n",
       "      <td>28000</td>\n",
       "    </tr>\n",
       "    <tr>\n",
       "      <th>202</th>\n",
       "      <td>0</td>\n",
       "      <td>39</td>\n",
       "      <td>134000</td>\n",
       "    </tr>\n",
       "    <tr>\n",
       "      <th>250</th>\n",
       "      <td>0</td>\n",
       "      <td>44</td>\n",
       "      <td>39000</td>\n",
       "    </tr>\n",
       "    <tr>\n",
       "      <th>274</th>\n",
       "      <td>0</td>\n",
       "      <td>57</td>\n",
       "      <td>26000</td>\n",
       "    </tr>\n",
       "  </tbody>\n",
       "</table>\n",
       "</div>"
      ],
      "text/plain": [
       "     Gender  Age  EstimatedSalary\n",
       "3         0   27            57000\n",
       "18        1   46            28000\n",
       "202       0   39           134000\n",
       "250       0   44            39000\n",
       "274       0   57            26000"
      ]
     },
     "execution_count": 76,
     "metadata": {},
     "output_type": "execute_result"
    }
   ],
   "source": [
    "x_train.head()"
   ]
  },
  {
   "cell_type": "markdown",
   "id": "7c4d1c03",
   "metadata": {},
   "source": [
    "## Testing the model"
   ]
  },
  {
   "cell_type": "code",
   "execution_count": 81,
   "id": "f63d27f7",
   "metadata": {},
   "outputs": [],
   "source": [
    "# Load the model\n",
    "testing_model = joblib.load(\"dt_tuned_model.joblib\")"
   ]
  },
  {
   "cell_type": "code",
   "execution_count": 94,
   "id": "7a1913f0",
   "metadata": {},
   "outputs": [
    {
     "name": "stdout",
     "output_type": "stream",
     "text": [
      "                     0\n",
      "Gender               1\n",
      "Age                 20\n",
      "EstimatedSalary  57000 \n",
      "\n",
      "result:No\n"
     ]
    }
   ],
   "source": [
    "sample_data = [{\"Gender\":1,\n",
    "              \"Age\":20,\n",
    "              \"EstimatedSalary\":57000}]\n",
    "\n",
    "testing_sample = pd.DataFrame(sample_data)\n",
    "testing_sample.head()\n",
    "print(testing_sample.T,'\\n')\n",
    "\n",
    "test = testing_model.predict(testing_sample)\n",
    "result = \"No\" if test==0 else \"Yes\"\n",
    "print(f\"result:{result}\")"
   ]
  },
  {
   "cell_type": "code",
   "execution_count": null,
   "id": "395b7f8e",
   "metadata": {},
   "outputs": [],
   "source": []
  },
  {
   "cell_type": "code",
   "execution_count": null,
   "id": "e1b4c8f4",
   "metadata": {},
   "outputs": [],
   "source": []
  }
 ],
 "metadata": {
  "kernelspec": {
   "display_name": "Python 3 (ipykernel)",
   "language": "python",
   "name": "python3"
  },
  "language_info": {
   "codemirror_mode": {
    "name": "ipython",
    "version": 3
   },
   "file_extension": ".py",
   "mimetype": "text/x-python",
   "name": "python",
   "nbconvert_exporter": "python",
   "pygments_lexer": "ipython3",
   "version": "3.7.16"
  }
 },
 "nbformat": 4,
 "nbformat_minor": 5
}
